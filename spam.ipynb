{
 "cells": [
  {
   "cell_type": "code",
   "execution_count": 12,
   "metadata": {},
   "outputs": [
    {
     "name": "stderr",
     "output_type": "stream",
     "text": [
      "[nltk_data] Downloading package stopwords to\n",
      "[nltk_data]     C:\\Users\\Bozal\\AppData\\Roaming\\nltk_data...\n",
      "[nltk_data]   Package stopwords is already up-to-date!\n",
      "[nltk_data] Downloading package wordnet to\n",
      "[nltk_data]     C:\\Users\\Bozal\\AppData\\Roaming\\nltk_data...\n",
      "[nltk_data]   Package wordnet is already up-to-date!\n"
     ]
    },
    {
     "data": {
      "text/plain": [
       "True"
      ]
     },
     "execution_count": 12,
     "metadata": {},
     "output_type": "execute_result"
    }
   ],
   "source": [
    "import kagglehub\n",
    "import pandas as pd\n",
    "import re\n",
    "from nltk.corpus import stopwords\n",
    "from nltk.stem import WordNetLemmatizer\n",
    "from sklearn.feature_extraction.text import CountVectorizer, TfidfVectorizer\n",
    "from sklearn.model_selection import train_test_split\n",
    "from sklearn.linear_model import LogisticRegression\n",
    "from sklearn.naive_bayes import MultinomialNB\n",
    "from sklearn.metrics import classification_report, roc_auc_score\n",
    "import nltk\n",
    "\n",
    "# Загрузка необходимых ресурсов NLTK\n",
    "nltk.download('stopwords')\n",
    "nltk.download('wordnet')"
   ]
  },
  {
   "cell_type": "code",
   "execution_count": 14,
   "metadata": {},
   "outputs": [
    {
     "name": "stdout",
     "output_type": "stream",
     "text": [
      "Столбцы в датасете: Index(['v1', 'v2', 'Unnamed: 2', 'Unnamed: 3', 'Unnamed: 4'], dtype='object')\n"
     ]
    }
   ],
   "source": [
    "# Шаг 1: Загрузка данных через kagglehub\n",
    "path = kagglehub.dataset_download(\"uciml/sms-spam-collection-dataset\")\n",
    "df = pd.read_csv(f\"{path}/spam.csv\", encoding=\"latin-1\")\n",
    "\n",
    "# Проверка столбцов\n",
    "print(\"Столбцы в датасете:\", df.columns)\n",
    "\n",
    "# Оставляем только первые два столбца\n",
    "df = df[['v1', 'v2']]\n",
    "df.columns = ['label', 'message']\n",
    "\n",
    "# Преобразуем метки в числовой формат: ham → 0, spam → 1\n",
    "df['label'] = df['label'].map({'ham': 0, 'spam': 1})"
   ]
  },
  {
   "cell_type": "code",
   "execution_count": 15,
   "metadata": {},
   "outputs": [],
   "source": [
    "# Шаг 2: Предобработка текста\n",
    "stop_words = set(stopwords.words('english'))\n",
    "lemmatizer = WordNetLemmatizer()\n",
    "\n",
    "def preprocess_text(text):\n",
    "    text = re.sub(r'[^a-zA-Z]', ' ', text).lower()\n",
    "    words = [lemmatizer.lemmatize(word) for word in text.split() if word not in stop_words]\n",
    "    return ' '.join(words)\n",
    "\n",
    "df['cleaned_message'] = df['message'].apply(preprocess_text)\n",
    "\n",
    "\n",
    "\n"
   ]
  },
  {
   "cell_type": "code",
   "execution_count": 16,
   "metadata": {},
   "outputs": [],
   "source": [
    "# Шаг 3: Векторизация текста\n",
    "bow_vectorizer = CountVectorizer(max_features=5000)\n",
    "X_bow = bow_vectorizer.fit_transform(df['cleaned_message'])\n",
    "\n",
    "tfidf_vectorizer = TfidfVectorizer(max_features=5000)\n",
    "X_tfidf = tfidf_vectorizer.fit_transform(df['cleaned_message'])\n",
    "\n",
    "y = df['label']"
   ]
  },
  {
   "cell_type": "code",
   "execution_count": 17,
   "metadata": {},
   "outputs": [],
   "source": [
    "# Шаг 4: Разделение на обучающую и тестовую выборки\n",
    "X_train_bow, X_test_bow, y_train, y_test = train_test_split(X_bow, y, test_size=0.3, random_state=42)\n",
    "X_train_tfidf, X_test_tfidf, _, _ = train_test_split(X_tfidf, y, test_size=0.3, random_state=42)\n"
   ]
  },
  {
   "cell_type": "code",
   "execution_count": 18,
   "metadata": {},
   "outputs": [
    {
     "name": "stdout",
     "output_type": "stream",
     "text": [
      "\n",
      "Модель: Logistic Regression\n",
      "\n",
      "BoW:\n",
      "              precision    recall  f1-score   support\n",
      "\n",
      "           0       0.98      1.00      0.99      1453\n",
      "           1       0.99      0.84      0.91       219\n",
      "\n",
      "    accuracy                           0.98      1672\n",
      "   macro avg       0.99      0.92      0.95      1672\n",
      "weighted avg       0.98      0.98      0.98      1672\n",
      "\n",
      "ROC-AUC: 0.986830899383106\n",
      "\n",
      "TF-IDF:\n",
      "              precision    recall  f1-score   support\n",
      "\n",
      "           0       0.95      1.00      0.97      1453\n",
      "           1       0.96      0.68      0.79       219\n",
      "\n",
      "    accuracy                           0.95      1672\n",
      "   macro avg       0.96      0.84      0.88      1672\n",
      "weighted avg       0.95      0.95      0.95      1672\n",
      "\n",
      "ROC-AUC: 0.9876794036586247\n",
      "\n",
      "Модель: Naive Bayes\n",
      "\n",
      "BoW:\n",
      "              precision    recall  f1-score   support\n",
      "\n",
      "           0       0.99      0.98      0.99      1453\n",
      "           1       0.90      0.93      0.92       219\n",
      "\n",
      "    accuracy                           0.98      1672\n",
      "   macro avg       0.95      0.96      0.95      1672\n",
      "weighted avg       0.98      0.98      0.98      1672\n",
      "\n",
      "ROC-AUC: 0.9805173990515607\n",
      "\n",
      "TF-IDF:\n",
      "              precision    recall  f1-score   support\n",
      "\n",
      "           0       0.96      1.00      0.98      1453\n",
      "           1       0.99      0.75      0.86       219\n",
      "\n",
      "    accuracy                           0.97      1672\n",
      "   macro avg       0.98      0.88      0.92      1672\n",
      "weighted avg       0.97      0.97      0.97      1672\n",
      "\n",
      "ROC-AUC: 0.9810013607494492\n"
     ]
    }
   ],
   "source": [
    "# Шаг 5: Построение моделей и их оценка\n",
    "models = {\n",
    "    \"Logistic Regression\": LogisticRegression(),\n",
    "    \"Naive Bayes\": MultinomialNB()\n",
    "}\n",
    "\n",
    "for name, model in models.items():\n",
    "    print(f\"\\nМодель: {name}\")\n",
    "    \n",
    "    # Bag of Words\n",
    "    model.fit(X_train_bow, y_train)\n",
    "    y_pred_bow = model.predict(X_test_bow)\n",
    "    print(\"\\nBoW:\")\n",
    "    print(classification_report(y_test, y_pred_bow))\n",
    "    print(\"ROC-AUC:\", roc_auc_score(y_test, model.predict_proba(X_test_bow)[:, 1]))\n",
    "    \n",
    "    # TF-IDF\n",
    "    model.fit(X_train_tfidf, y_train)\n",
    "    y_pred_tfidf = model.predict(X_test_tfidf)\n",
    "    print(\"\\nTF-IDF:\")\n",
    "    print(classification_report(y_test, y_pred_tfidf))\n",
    "    print(\"ROC-AUC:\", roc_auc_score(y_test, model.predict_proba(X_test_tfidf)[:, 1]))\n"
   ]
  }
 ],
 "metadata": {
  "kernelspec": {
   "display_name": "Python 3",
   "language": "python",
   "name": "python3"
  },
  "language_info": {
   "codemirror_mode": {
    "name": "ipython",
    "version": 3
   },
   "file_extension": ".py",
   "mimetype": "text/x-python",
   "name": "python",
   "nbconvert_exporter": "python",
   "pygments_lexer": "ipython3",
   "version": "3.11.9"
  }
 },
 "nbformat": 4,
 "nbformat_minor": 2
}
