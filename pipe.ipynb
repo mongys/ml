{
 "cells": [
  {
   "cell_type": "code",
   "execution_count": 3,
   "metadata": {},
   "outputs": [],
   "source": [
    "import pandas as pd\n",
    "from sklearn.feature_extraction.text import TfidfVectorizer\n",
    "from sklearn.pipeline import Pipeline\n",
    "from sklearn.naive_bayes import MultinomialNB\n",
    "from sklearn.model_selection import train_test_split\n",
    "from sklearn.metrics import classification_report\n",
    "import joblib\n",
    "\n",
    "# Простой набор данных\n",
    "data = {\n",
    "    'text': [\n",
    "        \"Congratulations, you've won a lottery! Call now!\",\n",
    "        \"Meeting scheduled at 10 am tomorrow.\",\n",
    "        \"Limited offer! Get a discount on your next purchase.\",\n",
    "        \"Please review the attached document and provide feedback.\",\n",
    "        \"Your account has been compromised, update your password immediately.\",\n",
    "        \"Looking forward to our lunch meeting today.\",\n",
    "    ],\n",
    "    'label': [1, 0, 1, 0, 1, 0]  # 1: Spam, 0: Not Spam\n",
    "}\n",
    "\n",
    "df = pd.DataFrame(data)\n",
    "\n",
    "# Разделение данных на обучающую и тестовую выборки\n",
    "X_train, X_test, y_train, y_test = train_test_split(df['text'], df['label'], test_size=0.3, random_state=42)\n"
   ]
  },
  {
   "cell_type": "code",
   "execution_count": 4,
   "metadata": {},
   "outputs": [
    {
     "name": "stdout",
     "output_type": "stream",
     "text": [
      "Классификационный отчет:\n",
      "              precision    recall  f1-score   support\n",
      "\n",
      "           0       0.50      1.00      0.67         1\n",
      "           1       0.00      0.00      0.00         1\n",
      "\n",
      "    accuracy                           0.50         2\n",
      "   macro avg       0.25      0.50      0.33         2\n",
      "weighted avg       0.25      0.50      0.33         2\n",
      "\n"
     ]
    },
    {
     "name": "stderr",
     "output_type": "stream",
     "text": [
      "C:\\Users\\Bozal\\AppData\\Local\\Packages\\PythonSoftwareFoundation.Python.3.11_qbz5n2kfra8p0\\LocalCache\\local-packages\\Python311\\site-packages\\sklearn\\metrics\\_classification.py:1531: UndefinedMetricWarning: Precision is ill-defined and being set to 0.0 in labels with no predicted samples. Use `zero_division` parameter to control this behavior.\n",
      "  _warn_prf(average, modifier, f\"{metric.capitalize()} is\", len(result))\n",
      "C:\\Users\\Bozal\\AppData\\Local\\Packages\\PythonSoftwareFoundation.Python.3.11_qbz5n2kfra8p0\\LocalCache\\local-packages\\Python311\\site-packages\\sklearn\\metrics\\_classification.py:1531: UndefinedMetricWarning: Precision is ill-defined and being set to 0.0 in labels with no predicted samples. Use `zero_division` parameter to control this behavior.\n",
      "  _warn_prf(average, modifier, f\"{metric.capitalize()} is\", len(result))\n",
      "C:\\Users\\Bozal\\AppData\\Local\\Packages\\PythonSoftwareFoundation.Python.3.11_qbz5n2kfra8p0\\LocalCache\\local-packages\\Python311\\site-packages\\sklearn\\metrics\\_classification.py:1531: UndefinedMetricWarning: Precision is ill-defined and being set to 0.0 in labels with no predicted samples. Use `zero_division` parameter to control this behavior.\n",
      "  _warn_prf(average, modifier, f\"{metric.capitalize()} is\", len(result))\n"
     ]
    }
   ],
   "source": [
    "# Создание пайплайна\n",
    "pipeline = Pipeline([\n",
    "    ('tfidf', TfidfVectorizer()),  # Преобразование текста в TF-IDF\n",
    "    ('classifier', MultinomialNB())  # Классификатор Naive Bayes\n",
    "])\n",
    "\n",
    "# Обучение модели\n",
    "pipeline.fit(X_train, y_train)\n",
    "\n",
    "# Оценка модели\n",
    "y_pred = pipeline.predict(X_test)\n",
    "print(\"Классификационный отчет:\")\n",
    "print(classification_report(y_test, y_pred))\n"
   ]
  },
  {
   "cell_type": "code",
   "execution_count": 5,
   "metadata": {},
   "outputs": [
    {
     "name": "stdout",
     "output_type": "stream",
     "text": [
      "Модель сохранена в файл: simple_text_classifier.pkl\n"
     ]
    }
   ],
   "source": [
    "# Сохранение пайплайна\n",
    "model_filename = \"simple_text_classifier.pkl\"\n",
    "joblib.dump(pipeline, model_filename)\n",
    "print(f\"Модель сохранена в файл: {model_filename}\")\n"
   ]
  },
  {
   "cell_type": "code",
   "execution_count": 6,
   "metadata": {},
   "outputs": [
    {
     "name": "stdout",
     "output_type": "stream",
     "text": [
      "Текст: Congratulations! You've won a free trip to Paris!\n",
      "Класс: Not Spam\n",
      "\n",
      "Текст: Can we reschedule our meeting for tomorrow?\n",
      "Класс: Not Spam\n",
      "\n",
      "Текст: Your bank account has been locked due to suspicious activity.\n",
      "Класс: Spam\n",
      "\n"
     ]
    }
   ],
   "source": [
    "# Загрузка модели\n",
    "loaded_pipeline = joblib.load(model_filename)\n",
    "\n",
    "# Тестовые данные\n",
    "new_texts = [\n",
    "    \"Congratulations! You've won a free trip to Paris!\",\n",
    "    \"Can we reschedule our meeting for tomorrow?\",\n",
    "    \"Your bank account has been locked due to suspicious activity.\"\n",
    "]\n",
    "\n",
    "# Предсказания\n",
    "predictions = loaded_pipeline.predict(new_texts)\n",
    "\n",
    "# Вывод результатов\n",
    "for text, label in zip(new_texts, predictions):\n",
    "    print(f\"Текст: {text}\\nКласс: {'Spam' if label == 1 else 'Not Spam'}\\n\")\n"
   ]
  }
 ],
 "metadata": {
  "kernelspec": {
   "display_name": "Python 3",
   "language": "python",
   "name": "python3"
  },
  "language_info": {
   "codemirror_mode": {
    "name": "ipython",
    "version": 3
   },
   "file_extension": ".py",
   "mimetype": "text/x-python",
   "name": "python",
   "nbconvert_exporter": "python",
   "pygments_lexer": "ipython3",
   "version": "3.11.9"
  }
 },
 "nbformat": 4,
 "nbformat_minor": 2
}
