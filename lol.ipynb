{
 "cells": [
  {
   "cell_type": "code",
   "execution_count": 1,
   "metadata": {},
   "outputs": [
    {
     "name": "stdout",
     "output_type": "stream",
     "text": [
      "Requirement already satisfied: pandas in c:\\users\\bozal\\appdata\\local\\packages\\pythonsoftwarefoundation.python.3.11_qbz5n2kfra8p0\\localcache\\local-packages\\python311\\site-packages (2.2.2)\n",
      "Requirement already satisfied: numpy>=1.23.2 in c:\\users\\bozal\\appdata\\local\\packages\\pythonsoftwarefoundation.python.3.11_qbz5n2kfra8p0\\localcache\\local-packages\\python311\\site-packages (from pandas) (2.1.0)\n",
      "Requirement already satisfied: python-dateutil>=2.8.2 in c:\\users\\bozal\\appdata\\local\\packages\\pythonsoftwarefoundation.python.3.11_qbz5n2kfra8p0\\localcache\\local-packages\\python311\\site-packages (from pandas) (2.9.0.post0)\n",
      "Requirement already satisfied: pytz>=2020.1 in c:\\users\\bozal\\appdata\\local\\packages\\pythonsoftwarefoundation.python.3.11_qbz5n2kfra8p0\\localcache\\local-packages\\python311\\site-packages (from pandas) (2024.2)\n",
      "Requirement already satisfied: tzdata>=2022.7 in c:\\users\\bozal\\appdata\\local\\packages\\pythonsoftwarefoundation.python.3.11_qbz5n2kfra8p0\\localcache\\local-packages\\python311\\site-packages (from pandas) (2024.1)\n",
      "Requirement already satisfied: six>=1.5 in c:\\users\\bozal\\appdata\\local\\packages\\pythonsoftwarefoundation.python.3.11_qbz5n2kfra8p0\\localcache\\local-packages\\python311\\site-packages (from python-dateutil>=2.8.2->pandas) (1.16.0)\n"
     ]
    },
    {
     "name": "stderr",
     "output_type": "stream",
     "text": [
      "\n",
      "[notice] A new release of pip is available: 24.0 -> 24.2\n",
      "[notice] To update, run: C:\\Users\\Bozal\\AppData\\Local\\Microsoft\\WindowsApps\\PythonSoftwareFoundation.Python.3.11_qbz5n2kfra8p0\\python.exe -m pip install --upgrade pip\n"
     ]
    },
    {
     "name": "stdout",
     "output_type": "stream",
     "text": [
      "Requirement already satisfied: scikit-learn in c:\\users\\bozal\\appdata\\local\\packages\\pythonsoftwarefoundation.python.3.11_qbz5n2kfra8p0\\localcache\\local-packages\\python311\\site-packages (1.5.2)\n",
      "Requirement already satisfied: numpy>=1.19.5 in c:\\users\\bozal\\appdata\\local\\packages\\pythonsoftwarefoundation.python.3.11_qbz5n2kfra8p0\\localcache\\local-packages\\python311\\site-packages (from scikit-learn) (2.1.0)\n",
      "Requirement already satisfied: scipy>=1.6.0 in c:\\users\\bozal\\appdata\\local\\packages\\pythonsoftwarefoundation.python.3.11_qbz5n2kfra8p0\\localcache\\local-packages\\python311\\site-packages (from scikit-learn) (1.14.1)\n",
      "Requirement already satisfied: joblib>=1.2.0 in c:\\users\\bozal\\appdata\\local\\packages\\pythonsoftwarefoundation.python.3.11_qbz5n2kfra8p0\\localcache\\local-packages\\python311\\site-packages (from scikit-learn) (1.4.2)\n",
      "Requirement already satisfied: threadpoolctl>=3.1.0 in c:\\users\\bozal\\appdata\\local\\packages\\pythonsoftwarefoundation.python.3.11_qbz5n2kfra8p0\\localcache\\local-packages\\python311\\site-packages (from scikit-learn) (3.5.0)\n"
     ]
    },
    {
     "name": "stderr",
     "output_type": "stream",
     "text": [
      "\n",
      "[notice] A new release of pip is available: 24.0 -> 24.2\n",
      "[notice] To update, run: C:\\Users\\Bozal\\AppData\\Local\\Microsoft\\WindowsApps\\PythonSoftwareFoundation.Python.3.11_qbz5n2kfra8p0\\python.exe -m pip install --upgrade pip\n"
     ]
    }
   ],
   "source": [
    "!pip install pandas\n",
    "!pip install scikit-learn"
   ]
  },
  {
   "cell_type": "code",
   "execution_count": 2,
   "metadata": {},
   "outputs": [],
   "source": [
    "import pandas as pd\n",
    "from sklearn.model_selection import train_test_split\n",
    "from sklearn.preprocessing import PolynomialFeatures\n",
    "from sklearn.linear_model import LinearRegression, Lasso, Ridge\n",
    "from sklearn.metrics import mean_squared_error, r2_score"
   ]
  },
  {
   "cell_type": "code",
   "execution_count": 3,
   "metadata": {},
   "outputs": [],
   "source": [
    "data = pd.read_csv('insurance.csv')"
   ]
  },
  {
   "cell_type": "code",
   "execution_count": 11,
   "metadata": {},
   "outputs": [],
   "source": [
    "# Преобразование категориальных признаков\n",
    "data = pd.get_dummies(data, drop_first=True)\n",
    "\n",
    "# Разделение данных на признаки и целевую переменную\n",
    "X = data.drop('charges', axis=1)\n",
    "y = data['charges']\n",
    "\n",
    "\n",
    "\n",
    "# Разделение данных на обучающую и тестовую выборки\n",
    "X_train, X_test, y_train, y_test = train_test_split(X, y, test_size=0.2, random_state=42)\n",
    "\n",
    "from sklearn.preprocessing import StandardScaler\n",
    "scaler = StandardScaler()\n",
    "X_train = scaler.fit_transform(X_train)\n",
    "X_test = scaler.transform(X_test)\n",
    "# Преобразование признаков в полиномиальные\n",
    "poly = PolynomialFeatures(degree=2)\n",
    "X_train_poly = poly.fit_transform(X_train)\n",
    "X_test_poly = poly.transform(X_test)"
   ]
  },
  {
   "cell_type": "code",
   "execution_count": 12,
   "metadata": {},
   "outputs": [
    {
     "name": "stdout",
     "output_type": "stream",
     "text": [
      "Линейная регрессия - MSE: 20715658.31108802, R2: 0.8665647177143877\n",
      "Коэффициенты линейной регрессии: [-1.24709424e+11  3.63598654e+03  1.98051982e+03  8.90985321e+02\n",
      "  2.52427868e+12  6.92697003e+16 -2.61271155e+16  3.49283542e+16\n",
      " -2.81140113e+16  7.78537404e+02  5.19654560e+01 -1.30820751e+02\n",
      "  1.45783495e+02  9.02864584e+00  1.57438326e+02  3.11279028e+02\n",
      "  3.79693782e+02 -2.64450619e+02  4.49409691e+01  5.88628426e+01\n",
      "  3.59958254e+03 -6.40320086e+01 -3.07606997e+02 -2.54613834e+02\n",
      " -1.24399699e+02 -1.49288705e+02 -2.28324848e+02 -3.17162767e-01\n",
      " -2.21416524e+02 -3.36569667e+02  5.19265515e+13  5.78467137e+01\n",
      "  2.75873491e+02  3.37531385e+02  1.50959657e+02 -4.75470484e+16\n",
      " -1.14064714e+02 -1.58005739e+02  2.40631079e+02  4.73276073e+16\n",
      "  5.95571986e+16 -6.97080581e+15 -2.71044976e+16 -4.79063671e+16\n",
      " -3.84926095e+15]\n"
     ]
    }
   ],
   "source": [
    "# 1. Линейная регрессия на полиномиальных признаках\n",
    "lin_reg = LinearRegression()\n",
    "lin_reg.fit(X_train_poly, y_train)\n",
    "y_pred = lin_reg.predict(X_test_poly)\n",
    "\n",
    "# Метрики\n",
    "mse = mean_squared_error(y_test, y_pred)\n",
    "r2 = r2_score(y_test, y_pred)\n",
    "print(f'Линейная регрессия - MSE: {mse}, R2: {r2}')\n",
    "\n",
    "# Коэффициенты модели\n",
    "print('Коэффициенты линейной регрессии:', lin_reg.coef_)"
   ]
  },
  {
   "cell_type": "code",
   "execution_count": 13,
   "metadata": {},
   "outputs": [
    {
     "name": "stdout",
     "output_type": "stream",
     "text": [
      "Lasso регрессия - MSE: 20704427.369396288, R2: 0.866637059314759\n"
     ]
    }
   ],
   "source": [
    "# 2. Линейная регрессия с L1-регуляризацией (Lasso)\n",
    "lasso = Lasso(max_iter=10000)\n",
    "lasso.fit(X_train_poly, y_train)\n",
    "y_pred_lasso = lasso.predict(X_test_poly)\n",
    "\n",
    "# Метрики\n",
    "mse_lasso = mean_squared_error(y_test, y_pred_lasso)\n",
    "r2_lasso = r2_score(y_test, y_pred_lasso)\n",
    "print(f'Lasso регрессия - MSE: {mse_lasso}, R2: {r2_lasso}')"
   ]
  },
  {
   "cell_type": "code",
   "execution_count": 14,
   "metadata": {},
   "outputs": [
    {
     "name": "stdout",
     "output_type": "stream",
     "text": [
      "Ridge регрессия - MSE: 20711587.977437522, R2: 0.8665909358587254\n"
     ]
    }
   ],
   "source": [
    "# 3. Линейная регрессия с L2-регуляризацией (Ridge)\n",
    "ridge = Ridge()\n",
    "ridge.fit(X_train_poly, y_train)\n",
    "y_pred_ridge = ridge.predict(X_test_poly)\n",
    "\n",
    "# Метрики\n",
    "mse_ridge = mean_squared_error(y_test, y_pred_ridge)\n",
    "r2_ridge = r2_score(y_test, y_pred_ridge)\n",
    "print(f'Ridge регрессия - MSE: {mse_ridge}, R2: {r2_ridge}')"
   ]
  },
  {
   "cell_type": "code",
   "execution_count": 15,
   "metadata": {},
   "outputs": [
    {
     "name": "stdout",
     "output_type": "stream",
     "text": [
      "Лучшее значение alpha для Ridge регрессии: 10\n",
      "Ridge регрессия с лучшим alpha - MSE: 20705459.79443167, R2: 0.8666304091796793\n"
     ]
    }
   ],
   "source": [
    "# 4. Подбор лучшего значения alpha для Ridge регрессии\n",
    "from sklearn.model_selection import GridSearchCV\n",
    "\n",
    "param_grid = {'alpha': [0.1, 1, 10, 100, 1000]}\n",
    "grid_search = GridSearchCV(Ridge(), param_grid, cv=5, scoring='neg_mean_squared_error')\n",
    "grid_search.fit(X_train_poly, y_train)\n",
    "\n",
    "best_alpha = grid_search.best_params_['alpha']\n",
    "print(f'Лучшее значение alpha для Ridge регрессии: {best_alpha}')\n",
    "\n",
    "# Обучение модели с лучшим alpha\n",
    "ridge_best = Ridge(alpha=best_alpha)\n",
    "ridge_best.fit(X_train_poly, y_train)\n",
    "y_pred_ridge_best = ridge_best.predict(X_test_poly)\n",
    "\n",
    "# Метрики\n",
    "mse_ridge_best = mean_squared_error(y_test, y_pred_ridge_best)\n",
    "r2_ridge_best = r2_score(y_test, y_pred_ridge_best)\n",
    "print(f'Ridge регрессия с лучшим alpha - MSE: {mse_ridge_best}, R2: {r2_ridge_best}')"
   ]
  },
  {
   "cell_type": "markdown",
   "metadata": {},
   "source": []
  }
 ],
 "metadata": {
  "kernelspec": {
   "display_name": "Python 3",
   "language": "python",
   "name": "python3"
  },
  "language_info": {
   "codemirror_mode": {
    "name": "ipython",
    "version": 3
   },
   "file_extension": ".py",
   "mimetype": "text/x-python",
   "name": "python",
   "nbconvert_exporter": "python",
   "pygments_lexer": "ipython3",
   "version": "3.11.9"
  }
 },
 "nbformat": 4,
 "nbformat_minor": 2
}
