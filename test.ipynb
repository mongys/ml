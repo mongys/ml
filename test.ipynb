{
 "cells": [
  {
   "cell_type": "markdown",
   "metadata": {},
   "source": [
    "### Вопрос 1\n",
    "\n",
    "\n",
    "# Метрики оценки качества модели классификации\n",
    "\n",
    "В задачах классификации для оценки качества модели используются различные метрики. Основные метрики, такие как точность (accuracy), полнота (recall) и точность (precision), помогают понять, насколько хорошо модель справляется с классификацией данных. Кроме того, есть вторичные метрики, которые учитывают более сложные аспекты, например, баланс между полнотою и точностью — это F-мера (F1-score).\n",
    "\n",
    "# Основные метрики:\n",
    "\n",
    "1. Точность (Accuracy): Показывает долю правильно классифицированных объектов.\n",
    "2. Полнота (Recall): Показывает долю правильно предсказанных положительных примеров среди всех реальных положительных.\n",
    "3. Точность (Precision): Показывает долю правильно предсказанных положительных примеров среди всех предсказанных положительных.\n",
    "4. F-мера (F1-score): Среднее гармоническое между полнотой и точностью, помогает сбалансировать оба этих показателя.\n",
    "\n",
    "### Вторичные метрики:\n",
    "\n",
    "- Коэффициент Маттьюса (Matthews Correlation Coefficient, MCC): Этот коэффициент учитывает дисбаланс классов и является более полной метрикой, чем обычная точность.\n",
    "- ROC-кривая и AUC (Area Under the Curve): ROC-кривая отображает зависимость между полнотой (Recall) и долей ложноположительных классификаций. AUC измеряет площадь под ROC-кривой.\n",
    "\n",
    "### Пример:\n",
    "\n",
    "Рассмотрим модель, которая классифицирует, является ли электронное письмо спамом или нет. Имеем следующие результаты:\n",
    "- TP = 80 (модель правильно классифицировала 80 спам-писем)\n",
    "- TN = 90 (модель правильно классифицировала 90 нормальных писем)\n",
    "- FP = 10 (модель ошибочно классифицировала 10 нормальных писем как спам)\n",
    "- FN = 20 (модель ошибочно классифицировала 20 спам-писем как нормальные)\n"
   ]
  },
  {
   "cell_type": "code",
   "execution_count": 21,
   "metadata": {},
   "outputs": [
    {
     "data": {
      "text/plain": [
       "0.85"
      ]
     },
     "execution_count": 21,
     "metadata": {},
     "output_type": "execute_result"
    }
   ],
   "source": [
    "# Вводим данные\n",
    "TP = 80\n",
    "TN = 90\n",
    "FP = 10\n",
    "FN = 20\n",
    "\n",
    "# Вычисляем Accuracy\n",
    "accuracy = (TP + TN) / (TP + TN + FP + FN)\n",
    "accuracy"
   ]
  },
  {
   "cell_type": "code",
   "execution_count": 22,
   "metadata": {},
   "outputs": [
    {
     "data": {
      "text/plain": [
       "0.8"
      ]
     },
     "execution_count": 22,
     "metadata": {},
     "output_type": "execute_result"
    }
   ],
   "source": [
    "# Вычисляем Recall\n",
    "recall = TP / (TP + FN)\n",
    "recall"
   ]
  },
  {
   "cell_type": "code",
   "execution_count": 23,
   "metadata": {},
   "outputs": [
    {
     "data": {
      "text/plain": [
       "0.8888888888888888"
      ]
     },
     "execution_count": 23,
     "metadata": {},
     "output_type": "execute_result"
    }
   ],
   "source": [
    "# Вычисляем Precision\n",
    "precision = TP / (TP + FP)\n",
    "precision"
   ]
  },
  {
   "cell_type": "code",
   "execution_count": 24,
   "metadata": {},
   "outputs": [
    {
     "data": {
      "text/plain": [
       "0.8421052631578948"
      ]
     },
     "execution_count": 24,
     "metadata": {},
     "output_type": "execute_result"
    }
   ],
   "source": [
    "# Вычисляем F1-score\n",
    "f1 = 2 * (precision * recall) / (precision + recall)\n",
    "f1"
   ]
  },
  {
   "cell_type": "markdown",
   "metadata": {},
   "source": [
    "### Вопрос 2\n",
    "\n",
    "# Что такое тестовый набор данных (test set) и для чего он нужен?\n",
    "\n",
    "Тестовый набор данных (test set) — это часть данных, которая используется для окончательной оценки модели после того, как она была обучена. Он отличается от обучающего набора (training set) и валидационного набора (validation set), так как его основная задача — дать объективную оценку тому, насколько хорошо модель будет работать на новых, невиданных данных.\n",
    "\n",
    "### Основные цели тестового набора данных:\n",
    "\n",
    "1. Оценка производительности модели:\n",
    "   - Тестовый набор позволяет оценить, как модель, обученная на тренировочных данных, будет работать в реальных условиях на новых данных, которые не были доступны на этапе обучения.\n",
    "\n",
    "2. Измерение обобщающей способности модели:\n",
    "   - Модель, которая хорошо работает на тестовом наборе данных, обладает хорошей обобщающей способностью (generalization), что означает, что она способна делать правильные прогнозы на данных, с которыми она не сталкивалась раньше.\n",
    "\n",
    "3. Избежание переобучения (overfitting):\n",
    "   - Использование тестового набора помогает выявить случаи переобучения, когда модель слишком точно подстроилась под тренировочные данные и показывает плохие результаты на новых данных.\n",
    "\n",
    "4. Выбор лучших гиперпараметров:\n",
    "   - После завершения обучения на тренировочных данных, результаты на тестовом наборе позволяют выбрать лучшие настройки модели, такие как количество слоёв в нейронной сети или скорость обучения.\n",
    "\n",
    "Таким образом, тестовый набор данных играет ключевую роль в финальной проверке модели и помогает понять, насколько успешно она будет работать в реальных условиях.\n"
   ]
  },
  {
   "cell_type": "markdown",
   "metadata": {},
   "source": [
    "### Вопрос 3\n",
    "\n",
    "# Разница между параметром модели и гиперпараметром алгоритма обучения\n",
    "\n",
    "### Параметры модели\n",
    "Параметры модели — это внутренние переменные, которые модель обучает на данных. Эти параметры оптимизируются в процессе обучения модели и напрямую влияют на предсказания модели. Примеры параметров модели зависят от конкретного алгоритма.\n",
    "\n",
    "Примеры параметров модели:\n",
    "- В линейной регрессии это коэффициенты наклона и смещения (веса).\n",
    "- В нейронной сети это веса нейронов и значения смещений (bias).\n",
    "\n",
    "Эти параметры модель автоматически настраивает во время процесса обучения, основываясь на тренировочных данных.\n",
    "\n",
    "### Гиперпараметры алгоритма обучения\n",
    "Гиперпараметры — это внешние настройки, которые задаются до обучения модели и не изменяются в процессе обучения. Они влияют на то, как модель обучается, и могут контролировать сложность модели, скорость обучения, глубину деревьев решений и т.д.\n",
    "\n",
    "Примеры гиперпараметров:\n",
    "- В линейной регрессии можно указать наличие или отсутствие регуляризации и её силу.\n",
    "- В нейронной сети гиперпараметрами являются количество слоёв, количество нейронов в каждом слое, скорость обучения (learning rate), количество эпох (epochs).\n",
    "- В деревьях решений гиперпараметры могут включать максимальную глубину дерева (max_depth) или минимальное количество образцов на листе (min_samples_leaf).\n",
    "\n",
    "Гиперпараметры должны быть настроены перед запуском процесса обучения и обычно подбираются с помощью кросс-валидации или других методов подбора.\n",
    "\n",
    "### Пример:\n",
    "\n",
    "- Параметр модели: Вес (w) и смещение (b) в линейной регрессии.\n",
    "- Гиперпараметр: Скорость обучения (learning rate) или количество эпох (epochs) в обучении нейронной сети.\n"
   ]
  },
  {
   "cell_type": "code",
   "execution_count": 25,
   "metadata": {},
   "outputs": [],
   "source": [
    "# Пример: линейная регрессия\n",
    "from sklearn.linear_model import LinearRegression\n",
    "\n",
    "# Параметры модели (будут найдены в процессе обучения)\n",
    "model = LinearRegression()\n",
    "\n",
    "# Пример: нейронная сеть\n",
    "from sklearn.neural_network import MLPClassifier\n",
    "\n",
    "# Гиперпараметры (задаются до обучения)\n",
    "model = MLPClassifier(hidden_layer_sizes=(100, 50), learning_rate_init=0.01, max_iter=200)\n"
   ]
  },
  {
   "cell_type": "code",
   "execution_count": 29,
   "metadata": {},
   "outputs": [
    {
     "name": "stdout",
     "output_type": "stream",
     "text": [
      "<class 'pandas.core.frame.DataFrame'>\n",
      "RangeIndex: 891 entries, 0 to 890\n",
      "Data columns (total 12 columns):\n",
      " #   Column       Non-Null Count  Dtype  \n",
      "---  ------       --------------  -----  \n",
      " 0   PassengerId  891 non-null    int64  \n",
      " 1   Survived     891 non-null    int64  \n",
      " 2   Pclass       891 non-null    int64  \n",
      " 3   Name         891 non-null    object \n",
      " 4   Sex          891 non-null    object \n",
      " 5   Age          714 non-null    float64\n",
      " 6   SibSp        891 non-null    int64  \n",
      " 7   Parch        891 non-null    int64  \n",
      " 8   Ticket       891 non-null    object \n",
      " 9   Fare         891 non-null    float64\n",
      " 10  Cabin        204 non-null    object \n",
      " 11  Embarked     889 non-null    object \n",
      "dtypes: float64(2), int64(5), object(5)\n",
      "memory usage: 83.7+ KB\n",
      "None\n",
      "       PassengerId    Survived      Pclass         Age       SibSp  \\\n",
      "count   891.000000  891.000000  891.000000  714.000000  891.000000   \n",
      "mean    446.000000    0.383838    2.308642   29.699118    0.523008   \n",
      "std     257.353842    0.486592    0.836071   14.526497    1.102743   \n",
      "min       1.000000    0.000000    1.000000    0.420000    0.000000   \n",
      "25%     223.500000    0.000000    2.000000   20.125000    0.000000   \n",
      "50%     446.000000    0.000000    3.000000   28.000000    0.000000   \n",
      "75%     668.500000    1.000000    3.000000   38.000000    1.000000   \n",
      "max     891.000000    1.000000    3.000000   80.000000    8.000000   \n",
      "\n",
      "            Parch        Fare  \n",
      "count  891.000000  891.000000  \n",
      "mean     0.381594   32.204208  \n",
      "std      0.806057   49.693429  \n",
      "min      0.000000    0.000000  \n",
      "25%      0.000000    7.910400  \n",
      "50%      0.000000   14.454200  \n",
      "75%      0.000000   31.000000  \n",
      "max      6.000000  512.329200  \n"
     ]
    },
    {
     "data": {
      "image/png": "[encoded data removed]",
      "text/plain": [
       "<Figure size 640x480 with 1 Axes>"
      ]
     },
     "metadata": {},
     "output_type": "display_data"
    },
    {
     "name": "stdout",
     "output_type": "stream",
     "text": [
      "Accuracy: 0.8044692737430168\n",
      "Файл с результатами сохранен как 'submission.csv'.\n"
     ]
    }
   ],
   "source": [
    "# Шаг 1. Загрузка данных\n",
    "import pandas as pd\n",
    "\n",
    "# Укажите локальный путь к файлам\n",
    "train_data = pd.read_csv('train.csv')\n",
    "test_data = pd.read_csv('test.csv')\n",
    "\n",
    "# Первичный анализ данных\n",
    "print(train_data.info())\n",
    "print(train_data.describe())\n",
    "\n",
    "# Шаг 2. EDA (Визуализация и анализ)\n",
    "import seaborn as sns\n",
    "import matplotlib.pyplot as plt\n",
    "\n",
    "# Визуализация распределения выживших по полу\n",
    "sns.countplot(x='Sex', hue='Survived', data=train_data)\n",
    "plt.show()\n",
    "\n",
    "# Шаг 3. Отбор признаков\n",
    "# Заполним пропущенные значения, обновляя сами столбцы напрямую\n",
    "train_data['Age'] = train_data['Age'].fillna(train_data['Age'].median())\n",
    "train_data['Embarked'] = train_data['Embarked'].fillna(train_data['Embarked'].mode()[0])\n",
    "\n",
    "# Преобразование категориальных признаков в числовые\n",
    "train_data = pd.get_dummies(train_data, columns=['Sex', 'Embarked'])\n",
    "\n",
    "# Удаление ненужных столбцов\n",
    "X = train_data.drop(['Survived', 'Name', 'Ticket', 'Cabin', 'PassengerId'], axis=1)\n",
    "y = train_data['Survived']\n",
    "\n",
    "# Шаг 4. Моделирование\n",
    "from sklearn.model_selection import train_test_split\n",
    "from sklearn.ensemble import RandomForestClassifier\n",
    "from sklearn.metrics import accuracy_score\n",
    "\n",
    "# Разделение данных на тренировочные и валидационные\n",
    "X_train, X_val, y_train, y_val = train_test_split(X, y, test_size=0.2, random_state=42)\n",
    "\n",
    "# Обучение модели\n",
    "model = RandomForestClassifier(n_estimators=100, random_state=42)\n",
    "model.fit(X_train, y_train)\n",
    "\n",
    "# Предсказание на валидационных данных\n",
    "y_pred = model.predict(X_val)\n",
    "\n",
    "# Оценка точности модели\n",
    "accuracy = accuracy_score(y_val, y_pred)\n",
    "print(f'Accuracy: {accuracy}')\n",
    "\n",
    "# Шаг 5. Предсказание на тестовых данных\n",
    "# Обработка тестовых данных аналогично тренировочным\n",
    "test_data['Age'] = test_data['Age'].fillna(test_data['Age'].median())\n",
    "test_data['Embarked'] = test_data['Embarked'].fillna(test_data['Embarked'].mode()[0])\n",
    "\n",
    "# Преобразование категориальных признаков в числовые\n",
    "test_data = pd.get_dummies(test_data, columns=['Sex', 'Embarked'])\n",
    "\n",
    "# Убедимся, что столбцы в тренировочных и тестовых данных совпадают\n",
    "X_test = test_data.drop(['Name', 'Ticket', 'Cabin', 'PassengerId'], axis=1)\n",
    "\n",
    "# Предсказание на тестовом наборе данных\n",
    "predictions = model.predict(X_test)\n",
    "\n",
    "# Подготовка данных для отправки на Kaggle\n",
    "submission = pd.DataFrame({\n",
    "    'PassengerId': test_data['PassengerId'],\n",
    "    'Survived': predictions\n",
    "})\n",
    "\n",
    "# Сохранение файла с результатами\n",
    "submission.to_csv('submission.csv', index=False)\n",
    "print(\"Файл с результатами сохранен как 'submission.csv'.\")\n"
   ]
  }
 ],
 "metadata": {
  "kernelspec": {
   "display_name": "Python 3",
   "language": "python",
   "name": "python3"
  },
  "language_info": {
   "codemirror_mode": {
    "name": "ipython",
    "version": 3
   },
   "file_extension": ".py",
   "mimetype": "text/x-python",
   "name": "python",
   "nbconvert_exporter": "python",
   "pygments_lexer": "ipython3",
   "version": "3.11.9"
  }
 },
 "nbformat": 4,
 "nbformat_minor": 2
}
